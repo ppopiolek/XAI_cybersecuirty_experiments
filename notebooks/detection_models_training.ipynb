{
 "cells": [
  {
   "cell_type": "code",
   "execution_count": 1,
   "metadata": {},
   "outputs": [],
   "source": [
    "SEED = 1"
   ]
  },
  {
   "cell_type": "code",
   "execution_count": 2,
   "metadata": {},
   "outputs": [],
   "source": [
    "import pandas as pd"
   ]
  },
  {
   "cell_type": "code",
   "execution_count": null,
   "metadata": {},
   "outputs": [],
   "source": [
    "# SCVIC IMPORT\n",
    "\n",
    "training_data = pd.read_csv(\"../data/external/SCVIC.nosync/Training.csv\")\n",
    "testing_data = pd.read_csv(\"../data/external/SCVIC.nosync/Testing.csv\")"
   ]
  },
  {
   "cell_type": "code",
   "execution_count": null,
   "metadata": {},
   "outputs": [],
   "source": [
    "# QUICK PREPROCESSING\n",
    "\n",
    "columns_to_drop = ['Src IP', 'Src Port', 'Dst IP', 'Dst Port', 'Flow ID', 'Protocol', 'Timestamp']\n",
    "training_data = training_data.drop(columns=columns_to_drop)\n",
    "testing_data = testing_data.drop(columns=columns_to_drop)\n",
    "\n",
    "training_data = training_data.replace([float('inf'), -float('inf')], float('nan')).dropna()\n",
    "testing_data = testing_data.replace([float('inf'), -float('inf')], float('nan')).dropna()\n",
    "\n",
    "training_data = pd.get_dummies(training_data, columns=['Label'])\n",
    "testing_data = pd.get_dummies(testing_data, columns=['Label'])\n"
   ]
  },
  {
   "cell_type": "code",
   "execution_count": null,
   "metadata": {},
   "outputs": [
    {
     "data": {
      "text/plain": [
       "(array([0.23529412, 0.81203008, 0.82656827, 0.99950005, 0.88195387,\n",
       "        0.74672489]),\n",
       " 0.7503452110618123)"
      ]
     },
     "execution_count": 25,
     "metadata": {},
     "output_type": "execute_result"
    }
   ],
   "source": [
    "#RANDOM FOREST TRAINING\n",
    "\n",
    "from sklearn.ensemble import RandomForestClassifier\n",
    "from sklearn.metrics import f1_score\n",
    "\n",
    "X_train = training_data.drop(columns=[col for col in training_data.columns if 'Label_' in col])\n",
    "y_train = training_data[[col for col in training_data.columns if 'Label_' in col]]\n",
    "X_test = testing_data.drop(columns=[col for col in testing_data.columns if 'Label_' in col])\n",
    "y_test = testing_data[[col for col in testing_data.columns if 'Label_' in col]]\n",
    "\n",
    "rf_model = RandomForestClassifier(random_state=SEED)\n",
    "rf_model.fit(X_train, y_train)\n",
    "\n",
    "y_pred_user_defined = rf_model.predict(X_test)\n",
    "\n",
    "f1_scores_user_defined = f1_score(y_test, y_pred_user_defined, average=None)\n",
    "mean_f1_score_user_defined = f1_score(y_test, y_pred_user_defined, average='macro')\n",
    "\n",
    "f1_scores_user_defined, mean_f1_score_user_defined"
   ]
  },
  {
   "cell_type": "code",
   "execution_count": null,
   "metadata": {},
   "outputs": [
    {
     "data": {
      "text/plain": [
       "({'Label_DataExfiltration': 0.23529411764705882,\n",
       "  'Label_InitialCompromise': 0.81203007518797,\n",
       "  'Label_LateralMovement': 0.826568265682657,\n",
       "  'Label_NormalTraffic': 0.9995000499950006,\n",
       "  'Label_Pivoting': 0.8819538670284938,\n",
       "  'Label_Reconnaissance': 0.7467248908296943},\n",
       " 0.7503452110618123)"
      ]
     },
     "execution_count": 26,
     "metadata": {},
     "output_type": "execute_result"
    }
   ],
   "source": [
    "category_f1_scores_user_defined = dict(zip(y_test.columns, f1_scores_user_defined))\n",
    "\n",
    "category_f1_scores_user_defined, mean_f1_score_user_defined"
   ]
  },
  {
   "cell_type": "code",
   "execution_count": null,
   "metadata": {},
   "outputs": [
    {
     "data": {
      "text/plain": [
       "(array([0.33707865, 0.83443709, 0.81226054, 0.99955454, 0.75423729,\n",
       "        0.62121212]),\n",
       " 0.7264633708215354)"
      ]
     },
     "execution_count": 30,
     "metadata": {},
     "output_type": "execute_result"
    }
   ],
   "source": [
    "# XGBOOST TRAINING\n",
    "\n",
    "from xgboost import XGBClassifier\n",
    "\n",
    "xgb = XGBClassifier(random_state=SEED)\n",
    "xgb.fit(X_train, y_train)\n",
    "\n",
    "y_pred_user_defined = xgb.predict(X_test)\n",
    "\n",
    "f1_scores_user_defined = f1_score(y_test, y_pred_user_defined, average=None)\n",
    "mean_f1_score_user_defined = f1_score(y_test, y_pred_user_defined, average='macro')\n",
    "\n",
    "f1_scores_user_defined, mean_f1_score_user_defined"
   ]
  },
  {
   "cell_type": "code",
   "execution_count": null,
   "metadata": {},
   "outputs": [
    {
     "data": {
      "text/plain": [
       "({'Label_DataExfiltration': 0.3370786516853933,\n",
       "  'Label_InitialCompromise': 0.8344370860927152,\n",
       "  'Label_LateralMovement': 0.8122605363984673,\n",
       "  'Label_NormalTraffic': 0.9995545414049218,\n",
       "  'Label_Pivoting': 0.7542372881355932,\n",
       "  'Label_Reconnaissance': 0.6212121212121212},\n",
       " 0.7264633708215354)"
      ]
     },
     "execution_count": 31,
     "metadata": {},
     "output_type": "execute_result"
    }
   ],
   "source": [
    "category_f1_scores_user_defined = dict(zip(y_test.columns, f1_scores_user_defined))\n",
    "\n",
    "category_f1_scores_user_defined, mean_f1_score_user_defined"
   ]
  },
  {
   "cell_type": "code",
   "execution_count": 2,
   "metadata": {},
   "outputs": [],
   "source": [
    "# TAB PFN doesn't operate on one hot ecnoded data - the fastest way is to load the dataset again\n",
    "import pandas as pd\n",
    "SEED =1 \n",
    "\n",
    "training_data = pd.read_csv(\"../data/external/SCVIC.nosync/Training.csv\")\n",
    "testing_data = pd.read_csv(\"../data/external/SCVIC.nosync/Testing.csv\")\n",
    "\n",
    "columns_to_drop = ['Src IP', 'Src Port', 'Dst IP', 'Dst Port', 'Flow ID', 'Protocol', 'Timestamp']\n",
    "training_data = training_data.drop(columns=columns_to_drop)\n",
    "testing_data = testing_data.drop(columns=columns_to_drop)\n",
    "\n",
    "training_data = training_data.replace([float('inf'), -float('inf')], float('nan')).dropna()\n",
    "testing_data = testing_data.replace([float('inf'), -float('inf')], float('nan')).dropna()\n",
    "\n",
    "X_train = training_data.drop(columns='Label')\n",
    "y_train = training_data['Label']\n",
    "X_test = testing_data.drop(columns='Label')\n",
    "y_test = testing_data['Label']"
   ]
  },
  {
   "cell_type": "code",
   "execution_count": 4,
   "metadata": {},
   "outputs": [
    {
     "data": {
      "text/plain": [
       "Label\n",
       "NormalTraffic        253028\n",
       "Pivoting               2122\n",
       "Reconnaissance          833\n",
       "LateralMovement         728\n",
       "DataExfiltration        527\n",
       "InitialCompromise        73\n",
       "Name: count, dtype: int64"
      ]
     },
     "execution_count": 4,
     "metadata": {},
     "output_type": "execute_result"
    }
   ],
   "source": [
    "y_train.value_counts()"
   ]
  },
  {
   "cell_type": "code",
   "execution_count": 11,
   "metadata": {},
   "outputs": [],
   "source": [
    "\n",
    "from sklearn.utils import resample\n",
    "X_train, y_train = pd.concat([X_train[y_train == 'NormalTraffic'].sample(1000, replace=True, random_state=0), X_train[y_train != 'NormalTraffic']]), pd.concat([y_train[y_train == 'NormalTraffic'].sample(1000, replace=True, random_state=0), y_train[y_train != 'NormalTraffic']])\n"
   ]
  },
  {
   "cell_type": "code",
   "execution_count": 12,
   "metadata": {},
   "outputs": [
    {
     "data": {
      "text/plain": [
       "Label\n",
       "Pivoting             2122\n",
       "NormalTraffic        2000\n",
       "Reconnaissance        833\n",
       "LateralMovement       728\n",
       "DataExfiltration      527\n",
       "InitialCompromise      73\n",
       "Name: count, dtype: int64"
      ]
     },
     "execution_count": 12,
     "metadata": {},
     "output_type": "execute_result"
    }
   ],
   "source": [
    "y_train.value_counts()"
   ]
  },
  {
   "cell_type": "code",
   "execution_count": 13,
   "metadata": {},
   "outputs": [
    {
     "name": "stdout",
     "output_type": "stream",
     "text": [
      "Loading model that can be used for inference only\n",
      "Using a Transformer with 25.82 M parameters\n"
     ]
    },
    {
     "name": "stderr",
     "output_type": "stream",
     "text": [
      "/Users/ppopiolek/miniconda3/envs/xai/lib/python3.11/site-packages/torch/utils/checkpoint.py:429: UserWarning: torch.utils.checkpoint: please pass in use_reentrant=True or use_reentrant=False explicitly. The default value of use_reentrant will be updated to be False in the future. To maintain current behavior, pass use_reentrant=True. It is recommended that you use use_reentrant=False. Refer to docs for more details on the differences between the two variants.\n",
      "  warnings.warn(\n"
     ]
    },
    {
     "ename": "",
     "evalue": "",
     "output_type": "error",
     "traceback": [
      "\u001b[1;31mThe Kernel crashed while executing code in the the current cell or a previous cell. Please review the code in the cell(s) to identify a possible cause of the failure. Click <a href='https://aka.ms/vscodeJupyterKernelCrash'>here</a> for more info. View Jupyter <a href='command:jupyter.viewOutput'>log</a> for further details."
     ]
    }
   ],
   "source": [
    "# TAB PFN\n",
    "\n",
    "from tabpfn import TabPFNClassifier\n",
    "\n",
    "tabpfn = TabPFNClassifier(device='cpu', N_ensemble_configurations=32)\n",
    "\n",
    "tabpfn.fit(X_train, y_train, overwrite_warning=True)\n",
    "\n",
    "y_pred_user_defined = tabpfn.predict(X_test)\n",
    "\n",
    "f1_scores_user_defined = f1_score(y_test, y_pred_user_defined, average=None)\n",
    "mean_f1_score_user_defined = f1_score(y_test, y_pred_user_defined, average='macro')\n",
    "\n",
    "f1_scores_user_defined, mean_f1_score_user_defined"
   ]
  },
  {
   "cell_type": "code",
   "execution_count": null,
   "metadata": {},
   "outputs": [],
   "source": []
  }
 ],
 "metadata": {
  "kernelspec": {
   "display_name": "Python 3",
   "language": "python",
   "name": "python3"
  },
  "language_info": {
   "codemirror_mode": {
    "name": "ipython",
    "version": 3
   },
   "file_extension": ".py",
   "mimetype": "text/x-python",
   "name": "python",
   "nbconvert_exporter": "python",
   "pygments_lexer": "ipython3",
   "version": "3.11.5"
  }
 },
 "nbformat": 4,
 "nbformat_minor": 2
}
