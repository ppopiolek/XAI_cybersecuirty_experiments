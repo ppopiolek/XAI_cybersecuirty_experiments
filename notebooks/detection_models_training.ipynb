{
 "cells": [
  {
   "cell_type": "code",
   "execution_count": 1,
   "metadata": {},
   "outputs": [],
   "source": [
    "SEED = 1"
   ]
  },
  {
   "cell_type": "code",
   "execution_count": 2,
   "metadata": {},
   "outputs": [],
   "source": [
    "import pandas as pd"
   ]
  },
  {
   "cell_type": "code",
   "execution_count": 3,
   "metadata": {},
   "outputs": [],
   "source": [
    "# SCVIC IMPORT\n",
    "\n",
    "training_data = pd.read_csv(\"../data/external/SCVIC.nosync/Training.csv\")\n",
    "testing_data = pd.read_csv(\"../data/external/SCVIC.nosync/Testing.csv\")"
   ]
  },
  {
   "cell_type": "code",
   "execution_count": 4,
   "metadata": {},
   "outputs": [],
   "source": [
    "# QUICK PREPROCESSING\n",
    "\n",
    "columns_to_drop = ['Src IP', 'Src Port', 'Dst IP', 'Dst Port', 'Flow ID', 'Protocol', 'Timestamp']\n",
    "training_data = training_data.drop(columns=columns_to_drop)\n",
    "testing_data = testing_data.drop(columns=columns_to_drop)\n",
    "\n",
    "training_data = training_data.replace([float('inf'), -float('inf')], float('nan')).dropna()\n",
    "testing_data = testing_data.replace([float('inf'), -float('inf')], float('nan')).dropna()\n",
    "\n",
    "training_data = pd.get_dummies(training_data, columns=['Label'])\n",
    "testing_data = pd.get_dummies(testing_data, columns=['Label'])\n"
   ]
  },
  {
   "cell_type": "code",
   "execution_count": 5,
   "metadata": {},
   "outputs": [
    {
     "data": {
      "text/plain": [
       "(array([0.21428571, 0.81818182, 0.82656827, 0.99949096, 0.88195387,\n",
       "        0.74725275]),\n",
       " 0.7479555628422453)"
      ]
     },
     "execution_count": 5,
     "metadata": {},
     "output_type": "execute_result"
    }
   ],
   "source": [
    "#RANDOM FOREST TRAINING\n",
    "\n",
    "from sklearn.ensemble import RandomForestClassifier\n",
    "from sklearn.metrics import f1_score\n",
    "\n",
    "X_train = training_data.drop(columns=[col for col in training_data.columns if 'Label_' in col])\n",
    "y_train = training_data[[col for col in training_data.columns if 'Label_' in col]]\n",
    "X_test = testing_data.drop(columns=[col for col in testing_data.columns if 'Label_' in col])\n",
    "y_test = testing_data[[col for col in testing_data.columns if 'Label_' in col]]\n",
    "\n",
    "rf_model = RandomForestClassifier(random_state=SEED)\n",
    "rf_model.fit(X_train, y_train)\n",
    "\n",
    "y_pred_user_defined = rf_model.predict(X_test)\n",
    "\n",
    "f1_scores_user_defined = f1_score(y_test, y_pred_user_defined, average=None)\n",
    "mean_f1_score_user_defined = f1_score(y_test, y_pred_user_defined, average='macro')\n",
    "\n",
    "f1_scores_user_defined, mean_f1_score_user_defined"
   ]
  },
  {
   "cell_type": "code",
   "execution_count": 6,
   "metadata": {},
   "outputs": [
    {
     "data": {
      "text/plain": [
       "({'Label_DataExfiltration': 0.2142857142857143,\n",
       "  'Label_InitialCompromise': 0.8181818181818182,\n",
       "  'Label_LateralMovement': 0.826568265682657,\n",
       "  'Label_NormalTraffic': 0.9994909646220412,\n",
       "  'Label_Pivoting': 0.8819538670284938,\n",
       "  'Label_Reconnaissance': 0.7472527472527472},\n",
       " 0.7479555628422453)"
      ]
     },
     "execution_count": 6,
     "metadata": {},
     "output_type": "execute_result"
    }
   ],
   "source": [
    "category_f1_scores_user_defined = dict(zip(y_test.columns, f1_scores_user_defined))\n",
    "\n",
    "category_f1_scores_user_defined, mean_f1_score_user_defined"
   ]
  },
  {
   "cell_type": "code",
   "execution_count": 7,
   "metadata": {},
   "outputs": [
    {
     "data": {
      "text/plain": [
       "(array([0.33707865, 0.83443709, 0.81226054, 0.99955454, 0.75423729,\n",
       "        0.62121212]),\n",
       " 0.7264633708215354)"
      ]
     },
     "execution_count": 7,
     "metadata": {},
     "output_type": "execute_result"
    }
   ],
   "source": [
    "# XGBOOST TRAINING\n",
    "\n",
    "from xgboost import XGBClassifier\n",
    "\n",
    "xgb = XGBClassifier(random_state=SEED)\n",
    "xgb.fit(X_train, y_train)\n",
    "\n",
    "y_pred_user_defined = xgb.predict(X_test)\n",
    "\n",
    "f1_scores_user_defined = f1_score(y_test, y_pred_user_defined, average=None)\n",
    "mean_f1_score_user_defined = f1_score(y_test, y_pred_user_defined, average='macro')\n",
    "\n",
    "f1_scores_user_defined, mean_f1_score_user_defined"
   ]
  },
  {
   "cell_type": "code",
   "execution_count": 8,
   "metadata": {},
   "outputs": [
    {
     "data": {
      "text/plain": [
       "({'Label_DataExfiltration': 0.3370786516853933,\n",
       "  'Label_InitialCompromise': 0.8344370860927152,\n",
       "  'Label_LateralMovement': 0.8122605363984673,\n",
       "  'Label_NormalTraffic': 0.9995545414049218,\n",
       "  'Label_Pivoting': 0.7542372881355932,\n",
       "  'Label_Reconnaissance': 0.6212121212121212},\n",
       " 0.7264633708215354)"
      ]
     },
     "execution_count": 8,
     "metadata": {},
     "output_type": "execute_result"
    }
   ],
   "source": [
    "category_f1_scores_user_defined = dict(zip(y_test.columns, f1_scores_user_defined))\n",
    "\n",
    "category_f1_scores_user_defined, mean_f1_score_user_defined"
   ]
  },
  {
   "cell_type": "code",
   "execution_count": 9,
   "metadata": {},
   "outputs": [],
   "source": [
    "# TAB PFN doesn't operate on one hot ecnoded data - the fastest way is to load the dataset again\n",
    "import pandas as pd\n",
    "SEED =1 \n",
    "\n",
    "training_data = pd.read_csv(\"../data/external/SCVIC.nosync/Training.csv\")\n",
    "testing_data = pd.read_csv(\"../data/external/SCVIC.nosync/Testing.csv\")\n",
    "\n",
    "columns_to_drop = ['Src IP', 'Src Port', 'Dst IP', 'Dst Port', 'Flow ID', 'Protocol', 'Timestamp']\n",
    "training_data = training_data.drop(columns=columns_to_drop)\n",
    "testing_data = testing_data.drop(columns=columns_to_drop)\n",
    "\n",
    "training_data = training_data.replace([float('inf'), -float('inf')], float('nan')).dropna()\n",
    "testing_data = testing_data.replace([float('inf'), -float('inf')], float('nan')).dropna()\n",
    "\n",
    "X_train = training_data.drop(columns='Label')\n",
    "y_train = training_data['Label']\n",
    "X_test = testing_data.drop(columns='Label')\n",
    "y_test = testing_data['Label']"
   ]
  },
  {
   "cell_type": "code",
   "execution_count": 10,
   "metadata": {},
   "outputs": [
    {
     "data": {
      "text/plain": [
       "Label\n",
       "NormalTraffic        253028\n",
       "Pivoting               2122\n",
       "Reconnaissance          833\n",
       "LateralMovement         728\n",
       "DataExfiltration        527\n",
       "InitialCompromise        73\n",
       "Name: count, dtype: int64"
      ]
     },
     "execution_count": 10,
     "metadata": {},
     "output_type": "execute_result"
    }
   ],
   "source": [
    "y_train.value_counts()"
   ]
  },
  {
   "cell_type": "code",
   "execution_count": 16,
   "metadata": {},
   "outputs": [],
   "source": [
    "# SAVING THE PROCESSED DATA\n",
    "X_train.to_csv(\"../data/processed/SCVIC/X_train.csv\", index=False)\n",
    "y_train.to_csv(\"../data/processed/SCVIC/y_train.csv\", index=False)\n",
    "X_test.to_csv(\"../data/processed/SCVIC/X_test.csv\", index=False)\n",
    "y_test.to_csv(\"../data/processed/SCVIC/y_test.csv\", index=False)"
   ]
  },
  {
   "cell_type": "code",
   "execution_count": 11,
   "metadata": {},
   "outputs": [],
   "source": [
    "\n",
    "from sklearn.utils import resample\n",
    "X_train, y_train = pd.concat([X_train[y_train == 'NormalTraffic'].sample(1000, replace=True, random_state=0), X_train[y_train != 'NormalTraffic']]), pd.concat([y_train[y_train == 'NormalTraffic'].sample(1000, replace=True, random_state=0), y_train[y_train != 'NormalTraffic']])\n"
   ]
  },
  {
   "cell_type": "code",
   "execution_count": 12,
   "metadata": {},
   "outputs": [
    {
     "data": {
      "text/plain": [
       "Label\n",
       "Pivoting             2122\n",
       "NormalTraffic        1000\n",
       "Reconnaissance        833\n",
       "LateralMovement       728\n",
       "DataExfiltration      527\n",
       "InitialCompromise      73\n",
       "Name: count, dtype: int64"
      ]
     },
     "execution_count": 12,
     "metadata": {},
     "output_type": "execute_result"
    }
   ],
   "source": [
    "y_train.value_counts()"
   ]
  },
  {
   "cell_type": "code",
   "execution_count": 13,
   "metadata": {},
   "outputs": [
    {
     "ename": "ModuleNotFoundError",
     "evalue": "No module named 'typing_extensions'",
     "output_type": "error",
     "traceback": [
      "\u001b[0;31m---------------------------------------------------------------------------\u001b[0m",
      "\u001b[0;31mModuleNotFoundError\u001b[0m                       Traceback (most recent call last)",
      "Cell \u001b[0;32mIn[13], line 3\u001b[0m\n\u001b[1;32m      1\u001b[0m \u001b[38;5;66;03m# TAB PFN\u001b[39;00m\n\u001b[0;32m----> 3\u001b[0m \u001b[38;5;28;01mfrom\u001b[39;00m \u001b[38;5;21;01mtabpfn\u001b[39;00m \u001b[38;5;28;01mimport\u001b[39;00m TabPFNClassifier\n\u001b[1;32m      5\u001b[0m tabpfn \u001b[38;5;241m=\u001b[39m TabPFNClassifier(device\u001b[38;5;241m=\u001b[39m\u001b[38;5;124m'\u001b[39m\u001b[38;5;124mcpu\u001b[39m\u001b[38;5;124m'\u001b[39m, N_ensemble_configurations\u001b[38;5;241m=\u001b[39m\u001b[38;5;241m32\u001b[39m)\n\u001b[1;32m      7\u001b[0m tabpfn\u001b[38;5;241m.\u001b[39mfit(X_train, y_train, overwrite_warning\u001b[38;5;241m=\u001b[39m\u001b[38;5;28;01mTrue\u001b[39;00m)\n",
      "File \u001b[0;32m~/miniconda3/envs/xai/lib/python3.11/site-packages/tabpfn/__init__.py:1\u001b[0m\n\u001b[0;32m----> 1\u001b[0m \u001b[38;5;28;01mfrom\u001b[39;00m \u001b[38;5;21;01mtabpfn\u001b[39;00m\u001b[38;5;21;01m.\u001b[39;00m\u001b[38;5;21;01mscripts\u001b[39;00m\u001b[38;5;21;01m.\u001b[39;00m\u001b[38;5;21;01mtransformer_prediction_interface\u001b[39;00m \u001b[38;5;28;01mimport\u001b[39;00m TabPFNClassifier\n",
      "File \u001b[0;32m~/miniconda3/envs/xai/lib/python3.11/site-packages/tabpfn/scripts/transformer_prediction_interface.py:1\u001b[0m\n\u001b[0;32m----> 1\u001b[0m \u001b[38;5;28;01mimport\u001b[39;00m \u001b[38;5;21;01mtorch\u001b[39;00m\n\u001b[1;32m      2\u001b[0m \u001b[38;5;28;01mimport\u001b[39;00m \u001b[38;5;21;01mrandom\u001b[39;00m\n\u001b[1;32m      3\u001b[0m \u001b[38;5;28;01mimport\u001b[39;00m \u001b[38;5;21;01mpathlib\u001b[39;00m\n",
      "File \u001b[0;32m~/miniconda3/envs/xai/lib/python3.11/site-packages/torch/__init__.py:1308\u001b[0m\n\u001b[1;32m   1306\u001b[0m \u001b[38;5;66;03m# If you edit these imports, please update torch/__init__.py.in as well\u001b[39;00m\n\u001b[1;32m   1307\u001b[0m \u001b[38;5;28;01mfrom\u001b[39;00m \u001b[38;5;21;01m.\u001b[39;00m\u001b[38;5;21;01mrandom\u001b[39;00m \u001b[38;5;28;01mimport\u001b[39;00m set_rng_state, get_rng_state, manual_seed, initial_seed, seed\n\u001b[0;32m-> 1308\u001b[0m \u001b[38;5;28;01mfrom\u001b[39;00m \u001b[38;5;21;01m.\u001b[39;00m\u001b[38;5;21;01mserialization\u001b[39;00m \u001b[38;5;28;01mimport\u001b[39;00m save, load\n\u001b[1;32m   1309\u001b[0m \u001b[38;5;28;01mfrom\u001b[39;00m \u001b[38;5;21;01m.\u001b[39;00m\u001b[38;5;21;01m_tensor_str\u001b[39;00m \u001b[38;5;28;01mimport\u001b[39;00m set_printoptions\n\u001b[1;32m   1311\u001b[0m \u001b[38;5;66;03m################################################################################\u001b[39;00m\n\u001b[1;32m   1312\u001b[0m \u001b[38;5;66;03m# Initialize extension\u001b[39;00m\n\u001b[1;32m   1313\u001b[0m \u001b[38;5;66;03m################################################################################\u001b[39;00m\n",
      "File \u001b[0;32m~/miniconda3/envs/xai/lib/python3.11/site-packages/torch/serialization.py:18\u001b[0m\n\u001b[1;32m     16\u001b[0m \u001b[38;5;28;01mfrom\u001b[39;00m \u001b[38;5;21;01mtorch\u001b[39;00m\u001b[38;5;21;01m.\u001b[39;00m\u001b[38;5;21;01mstorage\u001b[39;00m \u001b[38;5;28;01mimport\u001b[39;00m _get_dtype_from_pickle_storage_type\n\u001b[1;32m     17\u001b[0m \u001b[38;5;28;01mfrom\u001b[39;00m \u001b[38;5;21;01mtyping\u001b[39;00m \u001b[38;5;28;01mimport\u001b[39;00m Any, BinaryIO, Callable, cast, Dict, Optional, Type, Tuple, Union, IO\n\u001b[0;32m---> 18\u001b[0m \u001b[38;5;28;01mfrom\u001b[39;00m \u001b[38;5;21;01mtyping_extensions\u001b[39;00m \u001b[38;5;28;01mimport\u001b[39;00m TypeAlias  \u001b[38;5;66;03m# Python 3.10+\u001b[39;00m\n\u001b[1;32m     19\u001b[0m \u001b[38;5;28;01mimport\u001b[39;00m \u001b[38;5;21;01mcopyreg\u001b[39;00m\n\u001b[1;32m     20\u001b[0m \u001b[38;5;28;01mimport\u001b[39;00m \u001b[38;5;21;01mpickle\u001b[39;00m\n",
      "\u001b[0;31mModuleNotFoundError\u001b[0m: No module named 'typing_extensions'"
     ]
    }
   ],
   "source": [
    "# TAB PFN\n",
    "\n",
    "from tabpfn import TabPFNClassifier\n",
    "\n",
    "tabpfn = TabPFNClassifier(device='cpu', N_ensemble_configurations=32)\n",
    "\n",
    "tabpfn.fit(X_train, y_train, overwrite_warning=True)\n",
    "\n",
    "y_pred_user_defined = tabpfn.predict(X_test)\n",
    "\n",
    "f1_scores_user_defined = f1_score(y_test, y_pred_user_defined, average=None)\n",
    "mean_f1_score_user_defined = f1_score(y_test, y_pred_user_defined, average='macro')\n",
    "\n",
    "f1_scores_user_defined, mean_f1_score_user_defined"
   ]
  },
  {
   "cell_type": "code",
   "execution_count": null,
   "metadata": {},
   "outputs": [],
   "source": []
  }
 ],
 "metadata": {
  "kernelspec": {
   "display_name": "Python 3",
   "language": "python",
   "name": "python3"
  },
  "language_info": {
   "codemirror_mode": {
    "name": "ipython",
    "version": 3
   },
   "file_extension": ".py",
   "mimetype": "text/x-python",
   "name": "python",
   "nbconvert_exporter": "python",
   "pygments_lexer": "ipython3",
   "version": "3.11.5"
  }
 },
 "nbformat": 4,
 "nbformat_minor": 2
}
